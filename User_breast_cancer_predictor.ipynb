{
  "cells": [
    {
      "cell_type": "code",
      "execution_count": 1,
      "metadata": {
        "colab": {
          "base_uri": "https://localhost:8080/"
        },
        "id": "UK7DKYLZhZgd",
        "outputId": "bf15cc4a-44b5-4c78-cafc-e4865f48071a"
      },
      "outputs": [
        {
          "name": "stdout",
          "output_type": "stream",
          "text": [
            "Mounted at /content/gdrive\n"
          ]
        }
      ],
      "source": [
        "import fastbook\n",
        "fastbook.setup_book()"
      ]
    },
    {
      "cell_type": "code",
      "execution_count": 2,
      "metadata": {
        "id": "XOE7UhNAst5x"
      },
      "outputs": [],
      "source": [
        "from fastai.vision.all import *\n",
        "from fastai.vision.widgets import *\n",
        "#import pathlib\n",
        "#pathlib.WindowsPath = pathlib.PosixPath"
      ]
    },
    {
      "cell_type": "code",
      "execution_count": 11,
      "metadata": {
        "id": "dfh-nlCPqOSp"
      },
      "outputs": [],
      "source": [
        "path = Path()\n",
        "learn_inf = load_learner(path/'export.pkl', cpu=True)\n",
        "btn_upload = widgets.FileUpload()\n",
        "out_pl = widgets.Output()\n",
        "lbl_pred = widgets.Label()\n",
        "btn_run = widgets.Button(description='Classify')"
      ]
    },
    {
      "cell_type": "code",
      "execution_count": 12,
      "metadata": {
        "id": "lujMPh6jqQ28"
      },
      "outputs": [],
      "source": [
        "def on_data_change(change):\n",
        "    lbl_pred.value = ''\n",
        "    img = PILImage.create(btn_upload.data[-1])\n",
        "    out_pl.clear_output()\n",
        "    with out_pl: display(img.to_thumb(265,265))\n",
        "    pred,pred_idx,probs = learn_inf.predict(img)\n",
        "    lbl_pred.value = f'Prediction: {pred}; Probability: {probs[pred_idx]:.04f}'"
      ]
    },
    {
      "cell_type": "code",
      "execution_count": 13,
      "metadata": {
        "id": "hoJQeGeCqT2h"
      },
      "outputs": [],
      "source": [
        "btn_upload.observe(on_data_change, names=['data'])"
      ]
    },
    {
      "cell_type": "code",
      "execution_count": 14,
      "metadata": {
        "colab": {
          "base_uri": "https://localhost:8080/",
          "height": 337,
          "referenced_widgets": [
            "6c8d3bb0ca7649c0b146ea1d0bfcc836",
            "2977bea4ccef4760ab80b7ccbb994c15",
            "1e723ca0e5704c2d8e9774902b08faf3",
            "b6ba3ec275c4423899ffbc4ac7df81a1",
            "c3c2af0859eb4e7a9a54b71be88fed86",
            "7bfd7d7d538349c1a1a82f068fc8a0ff",
            "9450030983a74a3d9c884e51e9c6be33",
            "4a6a3cc67af74338ab0db5425fc08bef",
            "6c29adc4fbcf4adc961de77a6f602d77",
            "81f85a9de2f14cafa9e0304a5be4ee6d",
            "88ebddad24f24b0c9840ae76336f9ccf",
            "65695ebdb3234702a8dfd6fdbcba196a",
            "c766a3457a524ce0bccc6488904e9792"
          ]
        },
        "id": "DdocRyFkqWAU",
        "outputId": "2c5fc3d5-fc7b-4c73-f74d-a4f51c36cc2c"
      },
      "outputs": [
        {
          "data": {
            "application/vnd.jupyter.widget-view+json": {
              "model_id": "6c8d3bb0ca7649c0b146ea1d0bfcc836",
              "version_major": 2,
              "version_minor": 0
            },
            "text/plain": [
              "VBox(children=(Label(value='Select your image!'), FileUpload(value={}, description='Upload'), Output(), Label(…"
            ]
          },
          "metadata": {},
          "output_type": "display_data"
        },
        {
          "data": {
            "text/html": [
              "\n",
              "<style>\n",
              "    /* Turns off some styling */\n",
              "    progress {\n",
              "        /* gets rid of default border in Firefox and Opera. */\n",
              "        border: none;\n",
              "        /* Needs to be in here for Safari polyfill so background images work as expected. */\n",
              "        background-size: auto;\n",
              "    }\n",
              "    .progress-bar-interrupted, .progress-bar-interrupted::-webkit-progress-bar {\n",
              "        background: #F44336;\n",
              "    }\n",
              "</style>\n"
            ],
            "text/plain": [
              "<IPython.core.display.HTML object>"
            ]
          },
          "metadata": {},
          "output_type": "display_data"
        },
        {
          "data": {
            "text/html": [],
            "text/plain": [
              "<IPython.core.display.HTML object>"
            ]
          },
          "metadata": {},
          "output_type": "display_data"
        }
      ],
      "source": [
        "display(VBox([widgets.Label('Select your image!'), btn_upload, out_pl, lbl_pred]))"
      ]
    }
  ],
  "metadata": {
    "colab": {
      "name": "User breast cancer predictor",
      "provenance": []
    },
    "kernelspec": {
      "display_name": "Python 3",
      "name": "python3"
    },
    "language_info": {
      "name": "python"
    },
    "widgets": {
      "application/vnd.jupyter.widget-state+json": {
        "1e723ca0e5704c2d8e9774902b08faf3": {
          "model_module": "@jupyter-widgets/controls",
          "model_module_version": "1.5.0",
          "model_name": "FileUploadModel",
          "state": {
            "_counter": 1,
            "_dom_classes": [],
            "_model_module": "@jupyter-widgets/controls",
            "_model_module_version": "1.5.0",
            "_model_name": "FileUploadModel",
            "_view_count": null,
            "_view_module": "@jupyter-widgets/controls",
            "_view_module_version": "1.5.0",
            "_view_name": "FileUploadView",
            "accept": "",
            "button_style": "",
            "data": [
              null
            ],
            "description": "Upload",
            "description_tooltip": null,
            "disabled": false,
            "error": "",
            "icon": "upload",
            "layout": "IPY_MODEL_6c29adc4fbcf4adc961de77a6f602d77",
            "metadata": [
              {
                "lastModified": 1602650354000,
                "name": "20586934 (7).png",
                "size": 11865,
                "type": "image/png"
              }
            ],
            "multiple": false,
            "style": "IPY_MODEL_81f85a9de2f14cafa9e0304a5be4ee6d"
          }
        },
        "2977bea4ccef4760ab80b7ccbb994c15": {
          "model_module": "@jupyter-widgets/controls",
          "model_module_version": "1.5.0",
          "model_name": "LabelModel",
          "state": {
            "_dom_classes": [],
            "_model_module": "@jupyter-widgets/controls",
            "_model_module_version": "1.5.0",
            "_model_name": "LabelModel",
            "_view_count": null,
            "_view_module": "@jupyter-widgets/controls",
            "_view_module_version": "1.5.0",
            "_view_name": "LabelView",
            "description": "",
            "description_tooltip": null,
            "layout": "IPY_MODEL_9450030983a74a3d9c884e51e9c6be33",
            "placeholder": "​",
            "style": "IPY_MODEL_4a6a3cc67af74338ab0db5425fc08bef",
            "value": "Select your image!"
          }
        },
        "4a6a3cc67af74338ab0db5425fc08bef": {
          "model_module": "@jupyter-widgets/controls",
          "model_module_version": "1.5.0",
          "model_name": "DescriptionStyleModel",
          "state": {
            "_model_module": "@jupyter-widgets/controls",
            "_model_module_version": "1.5.0",
            "_model_name": "DescriptionStyleModel",
            "_view_count": null,
            "_view_module": "@jupyter-widgets/base",
            "_view_module_version": "1.2.0",
            "_view_name": "StyleView",
            "description_width": ""
          }
        },
        "65695ebdb3234702a8dfd6fdbcba196a": {
          "model_module": "@jupyter-widgets/controls",
          "model_module_version": "1.5.0",
          "model_name": "DescriptionStyleModel",
          "state": {
            "_model_module": "@jupyter-widgets/controls",
            "_model_module_version": "1.5.0",
            "_model_name": "DescriptionStyleModel",
            "_view_count": null,
            "_view_module": "@jupyter-widgets/base",
            "_view_module_version": "1.2.0",
            "_view_name": "StyleView",
            "description_width": ""
          }
        },
        "6c29adc4fbcf4adc961de77a6f602d77": {
          "model_module": "@jupyter-widgets/base",
          "model_module_version": "1.2.0",
          "model_name": "LayoutModel",
          "state": {
            "_model_module": "@jupyter-widgets/base",
            "_model_module_version": "1.2.0",
            "_model_name": "LayoutModel",
            "_view_count": null,
            "_view_module": "@jupyter-widgets/base",
            "_view_module_version": "1.2.0",
            "_view_name": "LayoutView",
            "align_content": null,
            "align_items": null,
            "align_self": null,
            "border": null,
            "bottom": null,
            "display": null,
            "flex": null,
            "flex_flow": null,
            "grid_area": null,
            "grid_auto_columns": null,
            "grid_auto_flow": null,
            "grid_auto_rows": null,
            "grid_column": null,
            "grid_gap": null,
            "grid_row": null,
            "grid_template_areas": null,
            "grid_template_columns": null,
            "grid_template_rows": null,
            "height": null,
            "justify_content": null,
            "justify_items": null,
            "left": null,
            "margin": null,
            "max_height": null,
            "max_width": null,
            "min_height": null,
            "min_width": null,
            "object_fit": null,
            "object_position": null,
            "order": null,
            "overflow": null,
            "overflow_x": null,
            "overflow_y": null,
            "padding": null,
            "right": null,
            "top": null,
            "visibility": null,
            "width": null
          }
        },
        "6c8d3bb0ca7649c0b146ea1d0bfcc836": {
          "model_module": "@jupyter-widgets/controls",
          "model_module_version": "1.5.0",
          "model_name": "VBoxModel",
          "state": {
            "_dom_classes": [],
            "_model_module": "@jupyter-widgets/controls",
            "_model_module_version": "1.5.0",
            "_model_name": "VBoxModel",
            "_view_count": null,
            "_view_module": "@jupyter-widgets/controls",
            "_view_module_version": "1.5.0",
            "_view_name": "VBoxView",
            "box_style": "",
            "children": [
              "IPY_MODEL_2977bea4ccef4760ab80b7ccbb994c15",
              "IPY_MODEL_1e723ca0e5704c2d8e9774902b08faf3",
              "IPY_MODEL_b6ba3ec275c4423899ffbc4ac7df81a1",
              "IPY_MODEL_c3c2af0859eb4e7a9a54b71be88fed86"
            ],
            "layout": "IPY_MODEL_7bfd7d7d538349c1a1a82f068fc8a0ff"
          }
        },
        "7bfd7d7d538349c1a1a82f068fc8a0ff": {
          "model_module": "@jupyter-widgets/base",
          "model_module_version": "1.2.0",
          "model_name": "LayoutModel",
          "state": {
            "_model_module": "@jupyter-widgets/base",
            "_model_module_version": "1.2.0",
            "_model_name": "LayoutModel",
            "_view_count": null,
            "_view_module": "@jupyter-widgets/base",
            "_view_module_version": "1.2.0",
            "_view_name": "LayoutView",
            "align_content": null,
            "align_items": null,
            "align_self": null,
            "border": null,
            "bottom": null,
            "display": null,
            "flex": null,
            "flex_flow": null,
            "grid_area": null,
            "grid_auto_columns": null,
            "grid_auto_flow": null,
            "grid_auto_rows": null,
            "grid_column": null,
            "grid_gap": null,
            "grid_row": null,
            "grid_template_areas": null,
            "grid_template_columns": null,
            "grid_template_rows": null,
            "height": null,
            "justify_content": null,
            "justify_items": null,
            "left": null,
            "margin": null,
            "max_height": null,
            "max_width": null,
            "min_height": null,
            "min_width": null,
            "object_fit": null,
            "object_position": null,
            "order": null,
            "overflow": null,
            "overflow_x": null,
            "overflow_y": null,
            "padding": null,
            "right": null,
            "top": null,
            "visibility": null,
            "width": null
          }
        },
        "81f85a9de2f14cafa9e0304a5be4ee6d": {
          "model_module": "@jupyter-widgets/controls",
          "model_module_version": "1.5.0",
          "model_name": "ButtonStyleModel",
          "state": {
            "_model_module": "@jupyter-widgets/controls",
            "_model_module_version": "1.5.0",
            "_model_name": "ButtonStyleModel",
            "_view_count": null,
            "_view_module": "@jupyter-widgets/base",
            "_view_module_version": "1.2.0",
            "_view_name": "StyleView",
            "button_color": null,
            "font_weight": ""
          }
        },
        "88ebddad24f24b0c9840ae76336f9ccf": {
          "model_module": "@jupyter-widgets/base",
          "model_module_version": "1.2.0",
          "model_name": "LayoutModel",
          "state": {
            "_model_module": "@jupyter-widgets/base",
            "_model_module_version": "1.2.0",
            "_model_name": "LayoutModel",
            "_view_count": null,
            "_view_module": "@jupyter-widgets/base",
            "_view_module_version": "1.2.0",
            "_view_name": "LayoutView",
            "align_content": null,
            "align_items": null,
            "align_self": null,
            "border": null,
            "bottom": null,
            "display": null,
            "flex": null,
            "flex_flow": null,
            "grid_area": null,
            "grid_auto_columns": null,
            "grid_auto_flow": null,
            "grid_auto_rows": null,
            "grid_column": null,
            "grid_gap": null,
            "grid_row": null,
            "grid_template_areas": null,
            "grid_template_columns": null,
            "grid_template_rows": null,
            "height": null,
            "justify_content": null,
            "justify_items": null,
            "left": null,
            "margin": null,
            "max_height": null,
            "max_width": null,
            "min_height": null,
            "min_width": null,
            "object_fit": null,
            "object_position": null,
            "order": null,
            "overflow": null,
            "overflow_x": null,
            "overflow_y": null,
            "padding": null,
            "right": null,
            "top": null,
            "visibility": null,
            "width": null
          }
        },
        "9450030983a74a3d9c884e51e9c6be33": {
          "model_module": "@jupyter-widgets/base",
          "model_module_version": "1.2.0",
          "model_name": "LayoutModel",
          "state": {
            "_model_module": "@jupyter-widgets/base",
            "_model_module_version": "1.2.0",
            "_model_name": "LayoutModel",
            "_view_count": null,
            "_view_module": "@jupyter-widgets/base",
            "_view_module_version": "1.2.0",
            "_view_name": "LayoutView",
            "align_content": null,
            "align_items": null,
            "align_self": null,
            "border": null,
            "bottom": null,
            "display": null,
            "flex": null,
            "flex_flow": null,
            "grid_area": null,
            "grid_auto_columns": null,
            "grid_auto_flow": null,
            "grid_auto_rows": null,
            "grid_column": null,
            "grid_gap": null,
            "grid_row": null,
            "grid_template_areas": null,
            "grid_template_columns": null,
            "grid_template_rows": null,
            "height": null,
            "justify_content": null,
            "justify_items": null,
            "left": null,
            "margin": null,
            "max_height": null,
            "max_width": null,
            "min_height": null,
            "min_width": null,
            "object_fit": null,
            "object_position": null,
            "order": null,
            "overflow": null,
            "overflow_x": null,
            "overflow_y": null,
            "padding": null,
            "right": null,
            "top": null,
            "visibility": null,
            "width": null
          }
        },
        "b6ba3ec275c4423899ffbc4ac7df81a1": {
          "model_module": "@jupyter-widgets/output",
          "model_module_version": "1.0.0",
          "model_name": "OutputModel",
          "state": {
            "_dom_classes": [],
            "_model_module": "@jupyter-widgets/output",
            "_model_module_version": "1.0.0",
            "_model_name": "OutputModel",
            "_view_count": null,
            "_view_module": "@jupyter-widgets/output",
            "_view_module_version": "1.0.0",
            "_view_name": "OutputView",
            "layout": "IPY_MODEL_c766a3457a524ce0bccc6488904e9792",
            "msg_id": "",
            "outputs": [
              {
                "data": {
                  "image/png": "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\n",
                  "text/plain": "<PIL.Image.Image image mode=RGB size=224x224 at 0x7FFA64F67B90>"
                },
                "metadata": {},
                "output_type": "display_data"
              }
            ]
          }
        },
        "c3c2af0859eb4e7a9a54b71be88fed86": {
          "model_module": "@jupyter-widgets/controls",
          "model_module_version": "1.5.0",
          "model_name": "LabelModel",
          "state": {
            "_dom_classes": [],
            "_model_module": "@jupyter-widgets/controls",
            "_model_module_version": "1.5.0",
            "_model_name": "LabelModel",
            "_view_count": null,
            "_view_module": "@jupyter-widgets/controls",
            "_view_module_version": "1.5.0",
            "_view_name": "LabelView",
            "description": "",
            "description_tooltip": null,
            "layout": "IPY_MODEL_88ebddad24f24b0c9840ae76336f9ccf",
            "placeholder": "​",
            "style": "IPY_MODEL_65695ebdb3234702a8dfd6fdbcba196a",
            "value": "Prediction: Malignant; Probability: 0.8000"
          }
        },
        "c766a3457a524ce0bccc6488904e9792": {
          "model_module": "@jupyter-widgets/base",
          "model_module_version": "1.2.0",
          "model_name": "LayoutModel",
          "state": {
            "_model_module": "@jupyter-widgets/base",
            "_model_module_version": "1.2.0",
            "_model_name": "LayoutModel",
            "_view_count": null,
            "_view_module": "@jupyter-widgets/base",
            "_view_module_version": "1.2.0",
            "_view_name": "LayoutView",
            "align_content": null,
            "align_items": null,
            "align_self": null,
            "border": null,
            "bottom": null,
            "display": null,
            "flex": null,
            "flex_flow": null,
            "grid_area": null,
            "grid_auto_columns": null,
            "grid_auto_flow": null,
            "grid_auto_rows": null,
            "grid_column": null,
            "grid_gap": null,
            "grid_row": null,
            "grid_template_areas": null,
            "grid_template_columns": null,
            "grid_template_rows": null,
            "height": null,
            "justify_content": null,
            "justify_items": null,
            "left": null,
            "margin": null,
            "max_height": null,
            "max_width": null,
            "min_height": null,
            "min_width": null,
            "object_fit": null,
            "object_position": null,
            "order": null,
            "overflow": null,
            "overflow_x": null,
            "overflow_y": null,
            "padding": null,
            "right": null,
            "top": null,
            "visibility": null,
            "width": null
          }
        }
      }
    }
  },
  "nbformat": 4,
  "nbformat_minor": 0
}
